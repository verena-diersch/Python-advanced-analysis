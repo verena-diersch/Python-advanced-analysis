{
 "cells": [
  {
   "cell_type": "markdown",
   "id": "2e1a9c8e",
   "metadata": {},
   "source": [
    "## Index of Economic Freedom\n",
    "\n",
    "This notebook explores regression analysis using scikit-learn.\n",
    "\n",
    "My synopsis for the exploratory data analysis in Script No 02 already showed a strong correlation between \"Property Rights\" and \"Overall Score\". Based on this previous analysis, I formulated the hypothesis: \"The higher the scoring for Property Rights, the higher the Overall Score for Economic Freedom\". \n",
    "\n",
    "In this notebook I want to test the assumption that the relationship between \"Property Rights\" and \"Overall Score\" follows a linear fashion.\n",
    "\n",
    "### Contents of this notebook\n",
    "#### 01. Importing libraries\n",
    "#### 02. Importing dataframe\n",
    "#### 03. Data checks\n",
    "#### 04. Data prep for regression analysis\n",
    "#### 05. Regression analysis\n",
    "#### 06. Performance improvement after improving outliers?"
   ]
  },
  {
   "cell_type": "markdown",
   "id": "ce86af05",
   "metadata": {},
   "source": [
    "### 01. Importing libraries"
   ]
  },
  {
   "cell_type": "code",
   "execution_count": 1,
   "id": "073123e5",
   "metadata": {},
   "outputs": [],
   "source": [
    "import pandas as pd\n",
    "import numpy as np\n",
    "import seaborn as sns\n",
    "import matplotlib\n",
    "import matplotlib.pyplot as plt\n",
    "import os\n",
    "import sklearn\n",
    "from sklearn.model_selection import train_test_split \n",
    "from sklearn.linear_model import LinearRegression\n",
    "from sklearn.metrics import mean_squared_error, r2_score"
   ]
  },
  {
   "cell_type": "code",
   "execution_count": 2,
   "id": "23c730a7",
   "metadata": {},
   "outputs": [],
   "source": [
    "# This option ensures that the graphs you create are displayed within the notebook without the need to \"call\" them specifically.\n",
    "\n",
    "%matplotlib inline"
   ]
  },
  {
   "cell_type": "markdown",
   "id": "279946b0",
   "metadata": {},
   "source": [
    "### 02. Importing dataframe"
   ]
  },
  {
   "cell_type": "code",
   "execution_count": 3,
   "id": "2c273ed0",
   "metadata": {},
   "outputs": [],
   "source": [
    "df_freedom = pd.read_excel(r'C:\\Users\\veren\\Python Data\\Economic Freedom Index\\02 Data\\Prepared Data\\data-economic-freedom-median.xlsx', index_col=False)"
   ]
  },
  {
   "cell_type": "code",
   "execution_count": 4,
   "id": "1d72e0e1",
   "metadata": {},
   "outputs": [
    {
     "data": {
      "text/plain": [
       "(5152, 19)"
      ]
     },
     "execution_count": 4,
     "metadata": {},
     "output_type": "execute_result"
    }
   ],
   "source": [
    "df_freedom.shape"
   ]
  },
  {
   "cell_type": "code",
   "execution_count": 5,
   "id": "f39b2c7f",
   "metadata": {},
   "outputs": [
    {
     "data": {
      "text/html": [
       "<div>\n",
       "<style scoped>\n",
       "    .dataframe tbody tr th:only-of-type {\n",
       "        vertical-align: middle;\n",
       "    }\n",
       "\n",
       "    .dataframe tbody tr th {\n",
       "        vertical-align: top;\n",
       "    }\n",
       "\n",
       "    .dataframe thead th {\n",
       "        text-align: right;\n",
       "    }\n",
       "</style>\n",
       "<table border=\"1\" class=\"dataframe\">\n",
       "  <thead>\n",
       "    <tr style=\"text-align: right;\">\n",
       "      <th></th>\n",
       "      <th>Unnamed: 0</th>\n",
       "      <th>Name</th>\n",
       "      <th>Latitude</th>\n",
       "      <th>Longitude</th>\n",
       "      <th>Index Year</th>\n",
       "      <th>Overall Score</th>\n",
       "      <th>Property Rights</th>\n",
       "      <th>Government Integrity</th>\n",
       "      <th>Judicial Effectiveness</th>\n",
       "      <th>Tax Burden</th>\n",
       "      <th>Government Spending</th>\n",
       "      <th>Fiscal Health</th>\n",
       "      <th>Business Freedom</th>\n",
       "      <th>Labor Freedom</th>\n",
       "      <th>Monetary Freedom</th>\n",
       "      <th>Trade Freedom</th>\n",
       "      <th>Investment Freedom</th>\n",
       "      <th>Financial Freedom</th>\n",
       "      <th>Property Rights Category</th>\n",
       "    </tr>\n",
       "  </thead>\n",
       "  <tbody>\n",
       "    <tr>\n",
       "      <th>0</th>\n",
       "      <td>0</td>\n",
       "      <td>Afghanistan</td>\n",
       "      <td>33.939110</td>\n",
       "      <td>67.709953</td>\n",
       "      <td>2022</td>\n",
       "      <td>59.6</td>\n",
       "      <td>50.0</td>\n",
       "      <td>34.6</td>\n",
       "      <td>NaN</td>\n",
       "      <td>NaN</td>\n",
       "      <td>NaN</td>\n",
       "      <td>NaN</td>\n",
       "      <td>NaN</td>\n",
       "      <td>NaN</td>\n",
       "      <td>NaN</td>\n",
       "      <td>NaN</td>\n",
       "      <td>NaN</td>\n",
       "      <td>NaN</td>\n",
       "      <td>NaN</td>\n",
       "    </tr>\n",
       "    <tr>\n",
       "      <th>1</th>\n",
       "      <td>1</td>\n",
       "      <td>Albania</td>\n",
       "      <td>41.153332</td>\n",
       "      <td>20.168331</td>\n",
       "      <td>2022</td>\n",
       "      <td>66.6</td>\n",
       "      <td>55.5</td>\n",
       "      <td>35.6</td>\n",
       "      <td>49.8</td>\n",
       "      <td>89.1</td>\n",
       "      <td>72.1</td>\n",
       "      <td>70.6</td>\n",
       "      <td>70.7</td>\n",
       "      <td>51.1</td>\n",
       "      <td>82.0</td>\n",
       "      <td>82.6</td>\n",
       "      <td>70.0</td>\n",
       "      <td>70.0</td>\n",
       "      <td>Medium Score</td>\n",
       "    </tr>\n",
       "    <tr>\n",
       "      <th>2</th>\n",
       "      <td>2</td>\n",
       "      <td>Algeria</td>\n",
       "      <td>28.033886</td>\n",
       "      <td>1.659626</td>\n",
       "      <td>2022</td>\n",
       "      <td>45.8</td>\n",
       "      <td>27.9</td>\n",
       "      <td>30.1</td>\n",
       "      <td>29.7</td>\n",
       "      <td>67.2</td>\n",
       "      <td>57.1</td>\n",
       "      <td>38.6</td>\n",
       "      <td>50.0</td>\n",
       "      <td>51.5</td>\n",
       "      <td>80.1</td>\n",
       "      <td>57.4</td>\n",
       "      <td>30.0</td>\n",
       "      <td>30.0</td>\n",
       "      <td>Low Score</td>\n",
       "    </tr>\n",
       "    <tr>\n",
       "      <th>3</th>\n",
       "      <td>3</td>\n",
       "      <td>Angola</td>\n",
       "      <td>-11.202692</td>\n",
       "      <td>17.873887</td>\n",
       "      <td>2022</td>\n",
       "      <td>52.6</td>\n",
       "      <td>39.8</td>\n",
       "      <td>20.6</td>\n",
       "      <td>25.3</td>\n",
       "      <td>86.6</td>\n",
       "      <td>86.4</td>\n",
       "      <td>80.0</td>\n",
       "      <td>37.6</td>\n",
       "      <td>53.9</td>\n",
       "      <td>61.2</td>\n",
       "      <td>70.0</td>\n",
       "      <td>30.0</td>\n",
       "      <td>40.0</td>\n",
       "      <td>Low Score</td>\n",
       "    </tr>\n",
       "    <tr>\n",
       "      <th>4</th>\n",
       "      <td>4</td>\n",
       "      <td>Argentina</td>\n",
       "      <td>-38.416097</td>\n",
       "      <td>-63.616672</td>\n",
       "      <td>2022</td>\n",
       "      <td>50.1</td>\n",
       "      <td>35.1</td>\n",
       "      <td>45.1</td>\n",
       "      <td>57.9</td>\n",
       "      <td>73.3</td>\n",
       "      <td>53.0</td>\n",
       "      <td>16.8</td>\n",
       "      <td>55.1</td>\n",
       "      <td>51.0</td>\n",
       "      <td>37.9</td>\n",
       "      <td>60.6</td>\n",
       "      <td>55.0</td>\n",
       "      <td>60.0</td>\n",
       "      <td>Low Score</td>\n",
       "    </tr>\n",
       "  </tbody>\n",
       "</table>\n",
       "</div>"
      ],
      "text/plain": [
       "   Unnamed: 0         Name   Latitude  Longitude  Index Year  Overall Score  \\\n",
       "0           0  Afghanistan  33.939110  67.709953        2022           59.6   \n",
       "1           1      Albania  41.153332  20.168331        2022           66.6   \n",
       "2           2      Algeria  28.033886   1.659626        2022           45.8   \n",
       "3           3       Angola -11.202692  17.873887        2022           52.6   \n",
       "4           4    Argentina -38.416097 -63.616672        2022           50.1   \n",
       "\n",
       "   Property Rights  Government Integrity  Judicial Effectiveness  Tax Burden  \\\n",
       "0             50.0                  34.6                     NaN         NaN   \n",
       "1             55.5                  35.6                    49.8        89.1   \n",
       "2             27.9                  30.1                    29.7        67.2   \n",
       "3             39.8                  20.6                    25.3        86.6   \n",
       "4             35.1                  45.1                    57.9        73.3   \n",
       "\n",
       "   Government Spending  Fiscal Health  Business Freedom  Labor Freedom  \\\n",
       "0                  NaN            NaN               NaN            NaN   \n",
       "1                 72.1           70.6              70.7           51.1   \n",
       "2                 57.1           38.6              50.0           51.5   \n",
       "3                 86.4           80.0              37.6           53.9   \n",
       "4                 53.0           16.8              55.1           51.0   \n",
       "\n",
       "   Monetary Freedom  Trade Freedom  Investment Freedom  Financial Freedom  \\\n",
       "0               NaN            NaN                 NaN                NaN   \n",
       "1              82.0           82.6                70.0               70.0   \n",
       "2              80.1           57.4                30.0               30.0   \n",
       "3              61.2           70.0                30.0               40.0   \n",
       "4              37.9           60.6                55.0               60.0   \n",
       "\n",
       "  Property Rights Category  \n",
       "0                      NaN  \n",
       "1             Medium Score  \n",
       "2                Low Score  \n",
       "3                Low Score  \n",
       "4                Low Score  "
      ]
     },
     "execution_count": 5,
     "metadata": {},
     "output_type": "execute_result"
    }
   ],
   "source": [
    "df_freedom.head()"
   ]
  },
  {
   "cell_type": "code",
   "execution_count": 6,
   "id": "1eb1df43",
   "metadata": {},
   "outputs": [],
   "source": [
    "# Dropping the index column\n",
    "\n",
    "df_freedom.drop(df_freedom.columns[0], axis=1, inplace =True)"
   ]
  },
  {
   "cell_type": "code",
   "execution_count": 7,
   "id": "95616f8e",
   "metadata": {},
   "outputs": [
    {
     "data": {
      "text/html": [
       "<div>\n",
       "<style scoped>\n",
       "    .dataframe tbody tr th:only-of-type {\n",
       "        vertical-align: middle;\n",
       "    }\n",
       "\n",
       "    .dataframe tbody tr th {\n",
       "        vertical-align: top;\n",
       "    }\n",
       "\n",
       "    .dataframe thead th {\n",
       "        text-align: right;\n",
       "    }\n",
       "</style>\n",
       "<table border=\"1\" class=\"dataframe\">\n",
       "  <thead>\n",
       "    <tr style=\"text-align: right;\">\n",
       "      <th></th>\n",
       "      <th>Name</th>\n",
       "      <th>Latitude</th>\n",
       "      <th>Longitude</th>\n",
       "      <th>Index Year</th>\n",
       "      <th>Overall Score</th>\n",
       "      <th>Property Rights</th>\n",
       "      <th>Government Integrity</th>\n",
       "      <th>Judicial Effectiveness</th>\n",
       "      <th>Tax Burden</th>\n",
       "      <th>Government Spending</th>\n",
       "      <th>Fiscal Health</th>\n",
       "      <th>Business Freedom</th>\n",
       "      <th>Labor Freedom</th>\n",
       "      <th>Monetary Freedom</th>\n",
       "      <th>Trade Freedom</th>\n",
       "      <th>Investment Freedom</th>\n",
       "      <th>Financial Freedom</th>\n",
       "      <th>Property Rights Category</th>\n",
       "    </tr>\n",
       "  </thead>\n",
       "  <tbody>\n",
       "    <tr>\n",
       "      <th>0</th>\n",
       "      <td>Afghanistan</td>\n",
       "      <td>33.939110</td>\n",
       "      <td>67.709953</td>\n",
       "      <td>2022</td>\n",
       "      <td>59.6</td>\n",
       "      <td>50.0</td>\n",
       "      <td>34.6</td>\n",
       "      <td>NaN</td>\n",
       "      <td>NaN</td>\n",
       "      <td>NaN</td>\n",
       "      <td>NaN</td>\n",
       "      <td>NaN</td>\n",
       "      <td>NaN</td>\n",
       "      <td>NaN</td>\n",
       "      <td>NaN</td>\n",
       "      <td>NaN</td>\n",
       "      <td>NaN</td>\n",
       "      <td>NaN</td>\n",
       "    </tr>\n",
       "    <tr>\n",
       "      <th>1</th>\n",
       "      <td>Albania</td>\n",
       "      <td>41.153332</td>\n",
       "      <td>20.168331</td>\n",
       "      <td>2022</td>\n",
       "      <td>66.6</td>\n",
       "      <td>55.5</td>\n",
       "      <td>35.6</td>\n",
       "      <td>49.8</td>\n",
       "      <td>89.1</td>\n",
       "      <td>72.1</td>\n",
       "      <td>70.6</td>\n",
       "      <td>70.7</td>\n",
       "      <td>51.1</td>\n",
       "      <td>82.0</td>\n",
       "      <td>82.6</td>\n",
       "      <td>70.0</td>\n",
       "      <td>70.0</td>\n",
       "      <td>Medium Score</td>\n",
       "    </tr>\n",
       "    <tr>\n",
       "      <th>2</th>\n",
       "      <td>Algeria</td>\n",
       "      <td>28.033886</td>\n",
       "      <td>1.659626</td>\n",
       "      <td>2022</td>\n",
       "      <td>45.8</td>\n",
       "      <td>27.9</td>\n",
       "      <td>30.1</td>\n",
       "      <td>29.7</td>\n",
       "      <td>67.2</td>\n",
       "      <td>57.1</td>\n",
       "      <td>38.6</td>\n",
       "      <td>50.0</td>\n",
       "      <td>51.5</td>\n",
       "      <td>80.1</td>\n",
       "      <td>57.4</td>\n",
       "      <td>30.0</td>\n",
       "      <td>30.0</td>\n",
       "      <td>Low Score</td>\n",
       "    </tr>\n",
       "    <tr>\n",
       "      <th>3</th>\n",
       "      <td>Angola</td>\n",
       "      <td>-11.202692</td>\n",
       "      <td>17.873887</td>\n",
       "      <td>2022</td>\n",
       "      <td>52.6</td>\n",
       "      <td>39.8</td>\n",
       "      <td>20.6</td>\n",
       "      <td>25.3</td>\n",
       "      <td>86.6</td>\n",
       "      <td>86.4</td>\n",
       "      <td>80.0</td>\n",
       "      <td>37.6</td>\n",
       "      <td>53.9</td>\n",
       "      <td>61.2</td>\n",
       "      <td>70.0</td>\n",
       "      <td>30.0</td>\n",
       "      <td>40.0</td>\n",
       "      <td>Low Score</td>\n",
       "    </tr>\n",
       "    <tr>\n",
       "      <th>4</th>\n",
       "      <td>Argentina</td>\n",
       "      <td>-38.416097</td>\n",
       "      <td>-63.616672</td>\n",
       "      <td>2022</td>\n",
       "      <td>50.1</td>\n",
       "      <td>35.1</td>\n",
       "      <td>45.1</td>\n",
       "      <td>57.9</td>\n",
       "      <td>73.3</td>\n",
       "      <td>53.0</td>\n",
       "      <td>16.8</td>\n",
       "      <td>55.1</td>\n",
       "      <td>51.0</td>\n",
       "      <td>37.9</td>\n",
       "      <td>60.6</td>\n",
       "      <td>55.0</td>\n",
       "      <td>60.0</td>\n",
       "      <td>Low Score</td>\n",
       "    </tr>\n",
       "  </tbody>\n",
       "</table>\n",
       "</div>"
      ],
      "text/plain": [
       "          Name   Latitude  Longitude  Index Year  Overall Score  \\\n",
       "0  Afghanistan  33.939110  67.709953        2022           59.6   \n",
       "1      Albania  41.153332  20.168331        2022           66.6   \n",
       "2      Algeria  28.033886   1.659626        2022           45.8   \n",
       "3       Angola -11.202692  17.873887        2022           52.6   \n",
       "4    Argentina -38.416097 -63.616672        2022           50.1   \n",
       "\n",
       "   Property Rights  Government Integrity  Judicial Effectiveness  Tax Burden  \\\n",
       "0             50.0                  34.6                     NaN         NaN   \n",
       "1             55.5                  35.6                    49.8        89.1   \n",
       "2             27.9                  30.1                    29.7        67.2   \n",
       "3             39.8                  20.6                    25.3        86.6   \n",
       "4             35.1                  45.1                    57.9        73.3   \n",
       "\n",
       "   Government Spending  Fiscal Health  Business Freedom  Labor Freedom  \\\n",
       "0                  NaN            NaN               NaN            NaN   \n",
       "1                 72.1           70.6              70.7           51.1   \n",
       "2                 57.1           38.6              50.0           51.5   \n",
       "3                 86.4           80.0              37.6           53.9   \n",
       "4                 53.0           16.8              55.1           51.0   \n",
       "\n",
       "   Monetary Freedom  Trade Freedom  Investment Freedom  Financial Freedom  \\\n",
       "0               NaN            NaN                 NaN                NaN   \n",
       "1              82.0           82.6                70.0               70.0   \n",
       "2              80.1           57.4                30.0               30.0   \n",
       "3              61.2           70.0                30.0               40.0   \n",
       "4              37.9           60.6                55.0               60.0   \n",
       "\n",
       "  Property Rights Category  \n",
       "0                      NaN  \n",
       "1             Medium Score  \n",
       "2                Low Score  \n",
       "3                Low Score  \n",
       "4                Low Score  "
      ]
     },
     "execution_count": 7,
     "metadata": {},
     "output_type": "execute_result"
    }
   ],
   "source": [
    "df_freedom.head()"
   ]
  },
  {
   "cell_type": "markdown",
   "id": "51e37a04",
   "metadata": {},
   "source": [
    "### 03. Data checks"
   ]
  },
  {
   "cell_type": "code",
   "execution_count": 8,
   "id": "be4e5209",
   "metadata": {},
   "outputs": [
    {
     "data": {
      "text/plain": [
       "Name                           0\n",
       "Latitude                       0\n",
       "Longitude                      0\n",
       "Index Year                     0\n",
       "Overall Score                  0\n",
       "Property Rights                0\n",
       "Government Integrity           0\n",
       "Judicial Effectiveness      4053\n",
       "Tax Burden                   518\n",
       "Government Spending          502\n",
       "Fiscal Health               4060\n",
       "Business Freedom             485\n",
       "Labor Freedom               1979\n",
       "Monetary Freedom             496\n",
       "Trade Freedom                511\n",
       "Investment Freedom           496\n",
       "Financial Freedom            518\n",
       "Property Rights Category     905\n",
       "dtype: int64"
      ]
     },
     "execution_count": 8,
     "metadata": {},
     "output_type": "execute_result"
    }
   ],
   "source": [
    "# Checking for missing values\n",
    "\n",
    "df_freedom.isnull().sum()"
   ]
  },
  {
   "cell_type": "markdown",
   "id": "0dce5d62",
   "metadata": {},
   "source": [
    "In the previous script No 03 I already imputed the missing values for \"Property Rights\" with the median."
   ]
  },
  {
   "cell_type": "code",
   "execution_count": 9,
   "id": "40c45e3e",
   "metadata": {},
   "outputs": [
    {
     "name": "stderr",
     "output_type": "stream",
     "text": [
      "C:\\Users\\veren\\anaconda3\\lib\\site-packages\\seaborn\\distributions.py:2619: FutureWarning: `distplot` is a deprecated function and will be removed in a future version. Please adapt your code to use either `displot` (a figure-level function with similar flexibility) or `histplot` (an axes-level function for histograms).\n",
      "  warnings.warn(msg, FutureWarning)\n"
     ]
    },
    {
     "data": {
      "text/plain": [
       "<AxesSubplot:xlabel='Property Rights', ylabel='Density'>"
      ]
     },
     "execution_count": 9,
     "metadata": {},
     "output_type": "execute_result"
    },
    {
     "data": {
      "image/png": "[encoded data removed]",
      "text/plain": [
       "<Figure size 432x288 with 1 Axes>"
      ]
     },
     "metadata": {
      "needs_background": "light"
     },
     "output_type": "display_data"
    }
   ],
   "source": [
    "# Checking for extreme values in \"Property Rights\"\n",
    "\n",
    "sns.distplot(df_freedom['Property Rights'], bins=25)"
   ]
  },
  {
   "cell_type": "markdown",
   "id": "93eb418d",
   "metadata": {},
   "source": [
    "Some of the outliers (extremely high values) may need to be removed, but let's try without doing so first."
   ]
  },
  {
   "cell_type": "code",
   "execution_count": 10,
   "id": "f3f51d6b",
   "metadata": {},
   "outputs": [
    {
     "name": "stderr",
     "output_type": "stream",
     "text": [
      "C:\\Users\\veren\\anaconda3\\lib\\site-packages\\seaborn\\distributions.py:2619: FutureWarning: `distplot` is a deprecated function and will be removed in a future version. Please adapt your code to use either `displot` (a figure-level function with similar flexibility) or `histplot` (an axes-level function for histograms).\n",
      "  warnings.warn(msg, FutureWarning)\n"
     ]
    },
    {
     "data": {
      "text/plain": [
       "<AxesSubplot:xlabel='Overall Score', ylabel='Density'>"
      ]
     },
     "execution_count": 10,
     "metadata": {},
     "output_type": "execute_result"
    },
    {
     "data": {
      "image/png": "[encoded data removed]",
      "text/plain": [
       "<Figure size 432x288 with 1 Axes>"
      ]
     },
     "metadata": {
      "needs_background": "light"
     },
     "output_type": "display_data"
    }
   ],
   "source": [
    "# Checking for extreme values in \"Overall Score\"\n",
    "\n",
    "sns.distplot(df_freedom['Overall Score'], bins=25)"
   ]
  },
  {
   "cell_type": "markdown",
   "id": "d9991f59",
   "metadata": {},
   "source": [
    "One outlier value may need to be removed, but let's try without doing so first."
   ]
  },
  {
   "cell_type": "code",
   "execution_count": 11,
   "id": "f6655093",
   "metadata": {},
   "outputs": [
    {
     "data": {
      "text/html": [
       "<div>\n",
       "<style scoped>\n",
       "    .dataframe tbody tr th:only-of-type {\n",
       "        vertical-align: middle;\n",
       "    }\n",
       "\n",
       "    .dataframe tbody tr th {\n",
       "        vertical-align: top;\n",
       "    }\n",
       "\n",
       "    .dataframe thead th {\n",
       "        text-align: right;\n",
       "    }\n",
       "</style>\n",
       "<table border=\"1\" class=\"dataframe\">\n",
       "  <thead>\n",
       "    <tr style=\"text-align: right;\">\n",
       "      <th></th>\n",
       "      <th>Overall Score</th>\n",
       "      <th>Property Rights</th>\n",
       "    </tr>\n",
       "  </thead>\n",
       "  <tbody>\n",
       "    <tr>\n",
       "      <th>count</th>\n",
       "      <td>5152.000000</td>\n",
       "      <td>5152.000000</td>\n",
       "    </tr>\n",
       "    <tr>\n",
       "      <th>mean</th>\n",
       "      <td>59.625000</td>\n",
       "      <td>49.001281</td>\n",
       "    </tr>\n",
       "    <tr>\n",
       "      <th>std</th>\n",
       "      <td>11.087575</td>\n",
       "      <td>22.391322</td>\n",
       "    </tr>\n",
       "    <tr>\n",
       "      <th>min</th>\n",
       "      <td>1.000000</td>\n",
       "      <td>0.000000</td>\n",
       "    </tr>\n",
       "    <tr>\n",
       "      <th>25%</th>\n",
       "      <td>53.800000</td>\n",
       "      <td>30.000000</td>\n",
       "    </tr>\n",
       "    <tr>\n",
       "      <th>50%</th>\n",
       "      <td>59.600000</td>\n",
       "      <td>50.000000</td>\n",
       "    </tr>\n",
       "    <tr>\n",
       "      <th>75%</th>\n",
       "      <td>66.400000</td>\n",
       "      <td>65.000000</td>\n",
       "    </tr>\n",
       "    <tr>\n",
       "      <th>max</th>\n",
       "      <td>90.500000</td>\n",
       "      <td>100.000000</td>\n",
       "    </tr>\n",
       "  </tbody>\n",
       "</table>\n",
       "</div>"
      ],
      "text/plain": [
       "       Overall Score  Property Rights\n",
       "count    5152.000000      5152.000000\n",
       "mean       59.625000        49.001281\n",
       "std        11.087575        22.391322\n",
       "min         1.000000         0.000000\n",
       "25%        53.800000        30.000000\n",
       "50%        59.600000        50.000000\n",
       "75%        66.400000        65.000000\n",
       "max        90.500000       100.000000"
      ]
     },
     "execution_count": 11,
     "metadata": {},
     "output_type": "execute_result"
    }
   ],
   "source": [
    "# Checking the mean, median and the max for \"Overall score\" and \"Property Rights\"\n",
    "\n",
    "df_freedom[['Overall Score', 'Property Rights']].describe()"
   ]
  },
  {
   "cell_type": "markdown",
   "id": "53e42c74",
   "metadata": {},
   "source": [
    "### 04. Data prep for regression analysis"
   ]
  },
  {
   "cell_type": "code",
   "execution_count": 12,
   "id": "b83b9d29",
   "metadata": {},
   "outputs": [
    {
     "data": {
      "image/png": "[encoded data removed]",
      "text/plain": [
       "<Figure size 432x288 with 1 Axes>"
      ]
     },
     "metadata": {
      "needs_background": "light"
     },
     "output_type": "display_data"
    }
   ],
   "source": [
    "# Creating a scatterplot using matplotlib for another look at how the chosen variables plot against each other.\n",
    "\n",
    "df_freedom.plot(x = 'Property Rights', y='Overall Score',style='o') # The style option creates a scatterplot; without it, we only have lines.\n",
    "plt.title('Property Rights vs Overall Score')  \n",
    "plt.xlabel('Property Rights')  \n",
    "plt.ylabel('Overall Score')  \n",
    "plt.show()"
   ]
  },
  {
   "cell_type": "markdown",
   "id": "915492e9",
   "metadata": {},
   "source": [
    "One can already see a general trend in the relationship between the two variables. The point of the regression analysis is to prove if the trend really exists."
   ]
  },
  {
   "cell_type": "code",
   "execution_count": 13,
   "id": "757cd20f",
   "metadata": {},
   "outputs": [],
   "source": [
    "# Reshaping the variables into NumPy arrays and putting them into separate objects\n",
    "\n",
    "X = df_freedom['Property Rights'].values.reshape(-1,1)\n",
    "y = df_freedom['Overall Score'].values.reshape(-1,1)"
   ]
  },
  {
   "cell_type": "code",
   "execution_count": 14,
   "id": "65c9efba",
   "metadata": {},
   "outputs": [
    {
     "data": {
      "text/plain": [
       "array([[50. ],\n",
       "       [55.5],\n",
       "       [27.9],\n",
       "       ...,\n",
       "       [30. ],\n",
       "       [50. ],\n",
       "       [50. ]])"
      ]
     },
     "execution_count": 14,
     "metadata": {},
     "output_type": "execute_result"
    }
   ],
   "source": [
    "X"
   ]
  },
  {
   "cell_type": "code",
   "execution_count": 15,
   "id": "d5ccae3b",
   "metadata": {},
   "outputs": [
    {
     "data": {
      "text/plain": [
       "array([[59.6],\n",
       "       [66.6],\n",
       "       [45.8],\n",
       "       ...,\n",
       "       [49.8],\n",
       "       [55.1],\n",
       "       [48.5]])"
      ]
     },
     "execution_count": 15,
     "metadata": {},
     "output_type": "execute_result"
    }
   ],
   "source": [
    "y"
   ]
  },
  {
   "cell_type": "code",
   "execution_count": 16,
   "id": "87750027",
   "metadata": {},
   "outputs": [],
   "source": [
    "# Splitting the data into a training set and a test set.\n",
    "\n",
    "X_train, X_test, y_train, y_test = train_test_split(X, y, test_size=0.3, random_state=0)"
   ]
  },
  {
   "cell_type": "markdown",
   "id": "19e17931",
   "metadata": {},
   "source": [
    "### 05. Regression analysis"
   ]
  },
  {
   "cell_type": "code",
   "execution_count": 17,
   "id": "2397410e",
   "metadata": {},
   "outputs": [],
   "source": [
    "# Creating a regression object.\n",
    "\n",
    "regression = LinearRegression()  # This is the regression object, which will be fit onto the training set."
   ]
  },
  {
   "cell_type": "code",
   "execution_count": 18,
   "id": "63831b9a",
   "metadata": {},
   "outputs": [
    {
     "data": {
      "text/plain": [
       "LinearRegression()"
      ]
     },
     "execution_count": 18,
     "metadata": {},
     "output_type": "execute_result"
    }
   ],
   "source": [
    "# Fit the regression object onto the training set.\n",
    "\n",
    "regression.fit(X_train, y_train) # training the model"
   ]
  },
  {
   "cell_type": "code",
   "execution_count": 19,
   "id": "1a67e0d3",
   "metadata": {},
   "outputs": [],
   "source": [
    "# Predict the values of y using X.\n",
    "\n",
    "y_predicted = regression.predict(X_test) # using the model on the test data set to predict some y values and see how accurate they are."
   ]
  },
  {
   "cell_type": "code",
   "execution_count": 20,
   "id": "f95d6171",
   "metadata": {},
   "outputs": [
    {
     "data": {
      "image/png": "[encoded data removed]",
      "text/plain": [
       "<Figure size 432x288 with 1 Axes>"
      ]
     },
     "metadata": {
      "needs_background": "light"
     },
     "output_type": "display_data"
    }
   ],
   "source": [
    "# Creating a plot that shows the regression line from the model on the test set.\n",
    "\n",
    "plot_test = plt\n",
    "plot_test.scatter(X_test, y_test, color='gray', s = 15)\n",
    "plot_test.plot(X_test, y_predicted, color='red', linewidth =3)\n",
    "plot_test.title('Property Rights vs Overall Score (Test set)')\n",
    "plot_test.xlabel('Property Rights')\n",
    "plot_test.ylabel('Overall Score')\n",
    "plot_test.show()"
   ]
  },
  {
   "cell_type": "code",
   "execution_count": 21,
   "id": "8a9e2ce8",
   "metadata": {},
   "outputs": [],
   "source": [
    "# In order to check the accuracy of the model, I'm checking its performance in more ways than just visually.\n",
    "# Creating objects that contain the model summary statistics.\n",
    "\n",
    "rmse = mean_squared_error(y_test, y_predicted) # This is the mean squared error\n",
    "r2 = r2_score(y_test, y_predicted) # This is the R2 score. "
   ]
  },
  {
   "cell_type": "code",
   "execution_count": 22,
   "id": "f7d4945a",
   "metadata": {},
   "outputs": [
    {
     "name": "stdout",
     "output_type": "stream",
     "text": [
      "Slope: [[0.39203388]]\n",
      "Mean squared error:  44.18128039707919\n",
      "R2 score:  0.6397295070881344\n"
     ]
    }
   ],
   "source": [
    "# Printing the model's summary statistics. This is where I evaluate the performance of the model.\n",
    "\n",
    "print('Slope:' ,regression.coef_)\n",
    "print('Mean squared error: ', rmse)\n",
    "print('R2 score: ', r2)"
   ]
  },
  {
   "cell_type": "markdown",
   "id": "5ede03ee",
   "metadata": {},
   "source": [
    "The **slope coefficient** indicates how the y variable changes when X changes. This indicates a **moderate positive linear relationship**.\n",
    "\n",
    "The **root mean squared error (MSE)** is an estimator that measures the average of the squared difference between the estimated values and the true values. Put more simply, it states how close a regression line is to a set of points (i.e., its accuracy). A small MSE, however, means that the regression line passes fairly close to the observations, making it a good fit. I would interpret 44.2 as a small/moderate MSE, so **the linear regression line is a fairly good fit** for this analysis.\n",
    "\n",
    "The **R2 score** or R squared is a metric that shows how well the model explains the variance in the data. It’s a number (usually) between 0 and 1, where values closer to 0 indicate a poor fit, and values closer to 1 indicate a good fit. Since 0.6 is closer to 1 than to zero, **the fit is moderate**."
   ]
  },
  {
   "cell_type": "code",
   "execution_count": 23,
   "id": "ee847b06",
   "metadata": {},
   "outputs": [
    {
     "data": {
      "text/plain": [
       "array([[53.00239058],\n",
       "       [62.64642404],\n",
       "       [42.26066225],\n",
       "       ...,\n",
       "       [72.72169477],\n",
       "       [48.14117046],\n",
       "       [52.06150927]])"
      ]
     },
     "execution_count": 23,
     "metadata": {},
     "output_type": "execute_result"
    }
   ],
   "source": [
    "# Making a dataframe of y values and their predicted values to further see the performance of the model \n",
    "\n",
    "y_predicted"
   ]
  },
  {
   "cell_type": "code",
   "execution_count": 24,
   "id": "63fa31c0",
   "metadata": {},
   "outputs": [
    {
     "data": {
      "text/html": [
       "<div>\n",
       "<style scoped>\n",
       "    .dataframe tbody tr th:only-of-type {\n",
       "        vertical-align: middle;\n",
       "    }\n",
       "\n",
       "    .dataframe tbody tr th {\n",
       "        vertical-align: top;\n",
       "    }\n",
       "\n",
       "    .dataframe thead th {\n",
       "        text-align: right;\n",
       "    }\n",
       "</style>\n",
       "<table border=\"1\" class=\"dataframe\">\n",
       "  <thead>\n",
       "    <tr style=\"text-align: right;\">\n",
       "      <th></th>\n",
       "      <th>Actual</th>\n",
       "      <th>Predicted</th>\n",
       "    </tr>\n",
       "  </thead>\n",
       "  <tbody>\n",
       "    <tr>\n",
       "      <th>0</th>\n",
       "      <td>47.4</td>\n",
       "      <td>53.002391</td>\n",
       "    </tr>\n",
       "    <tr>\n",
       "      <th>1</th>\n",
       "      <td>64.1</td>\n",
       "      <td>62.646424</td>\n",
       "    </tr>\n",
       "    <tr>\n",
       "      <th>2</th>\n",
       "      <td>37.6</td>\n",
       "      <td>42.260662</td>\n",
       "    </tr>\n",
       "    <tr>\n",
       "      <th>3</th>\n",
       "      <td>70.9</td>\n",
       "      <td>67.742864</td>\n",
       "    </tr>\n",
       "    <tr>\n",
       "      <th>4</th>\n",
       "      <td>59.6</td>\n",
       "      <td>59.902187</td>\n",
       "    </tr>\n",
       "    <tr>\n",
       "      <th>5</th>\n",
       "      <td>70.0</td>\n",
       "      <td>75.583542</td>\n",
       "    </tr>\n",
       "    <tr>\n",
       "      <th>6</th>\n",
       "      <td>59.6</td>\n",
       "      <td>59.902187</td>\n",
       "    </tr>\n",
       "    <tr>\n",
       "      <th>7</th>\n",
       "      <td>61.1</td>\n",
       "      <td>61.274305</td>\n",
       "    </tr>\n",
       "    <tr>\n",
       "      <th>8</th>\n",
       "      <td>49.7</td>\n",
       "      <td>59.902187</td>\n",
       "    </tr>\n",
       "    <tr>\n",
       "      <th>9</th>\n",
       "      <td>64.5</td>\n",
       "      <td>52.061509</td>\n",
       "    </tr>\n",
       "    <tr>\n",
       "      <th>10</th>\n",
       "      <td>74.3</td>\n",
       "      <td>74.172220</td>\n",
       "    </tr>\n",
       "    <tr>\n",
       "      <th>11</th>\n",
       "      <td>59.6</td>\n",
       "      <td>59.902187</td>\n",
       "    </tr>\n",
       "    <tr>\n",
       "      <th>12</th>\n",
       "      <td>67.0</td>\n",
       "      <td>69.859847</td>\n",
       "    </tr>\n",
       "    <tr>\n",
       "      <th>13</th>\n",
       "      <td>59.6</td>\n",
       "      <td>59.902187</td>\n",
       "    </tr>\n",
       "    <tr>\n",
       "      <th>14</th>\n",
       "      <td>68.4</td>\n",
       "      <td>75.583542</td>\n",
       "    </tr>\n",
       "    <tr>\n",
       "      <th>15</th>\n",
       "      <td>56.0</td>\n",
       "      <td>59.902187</td>\n",
       "    </tr>\n",
       "    <tr>\n",
       "      <th>16</th>\n",
       "      <td>71.7</td>\n",
       "      <td>75.583542</td>\n",
       "    </tr>\n",
       "    <tr>\n",
       "      <th>17</th>\n",
       "      <td>61.0</td>\n",
       "      <td>57.667594</td>\n",
       "    </tr>\n",
       "    <tr>\n",
       "      <th>18</th>\n",
       "      <td>50.4</td>\n",
       "      <td>44.220832</td>\n",
       "    </tr>\n",
       "    <tr>\n",
       "      <th>19</th>\n",
       "      <td>58.4</td>\n",
       "      <td>52.061509</td>\n",
       "    </tr>\n",
       "    <tr>\n",
       "      <th>20</th>\n",
       "      <td>64.0</td>\n",
       "      <td>57.236356</td>\n",
       "    </tr>\n",
       "    <tr>\n",
       "      <th>21</th>\n",
       "      <td>73.4</td>\n",
       "      <td>72.604085</td>\n",
       "    </tr>\n",
       "    <tr>\n",
       "      <th>22</th>\n",
       "      <td>60.9</td>\n",
       "      <td>67.742864</td>\n",
       "    </tr>\n",
       "    <tr>\n",
       "      <th>23</th>\n",
       "      <td>71.0</td>\n",
       "      <td>63.822526</td>\n",
       "    </tr>\n",
       "    <tr>\n",
       "      <th>24</th>\n",
       "      <td>69.3</td>\n",
       "      <td>66.605966</td>\n",
       "    </tr>\n",
       "    <tr>\n",
       "      <th>25</th>\n",
       "      <td>45.9</td>\n",
       "      <td>48.141170</td>\n",
       "    </tr>\n",
       "    <tr>\n",
       "      <th>26</th>\n",
       "      <td>60.9</td>\n",
       "      <td>59.902187</td>\n",
       "    </tr>\n",
       "    <tr>\n",
       "      <th>27</th>\n",
       "      <td>65.3</td>\n",
       "      <td>59.902187</td>\n",
       "    </tr>\n",
       "    <tr>\n",
       "      <th>28</th>\n",
       "      <td>59.6</td>\n",
       "      <td>59.902187</td>\n",
       "    </tr>\n",
       "    <tr>\n",
       "      <th>29</th>\n",
       "      <td>58.4</td>\n",
       "      <td>55.981848</td>\n",
       "    </tr>\n",
       "  </tbody>\n",
       "</table>\n",
       "</div>"
      ],
      "text/plain": [
       "    Actual  Predicted\n",
       "0     47.4  53.002391\n",
       "1     64.1  62.646424\n",
       "2     37.6  42.260662\n",
       "3     70.9  67.742864\n",
       "4     59.6  59.902187\n",
       "5     70.0  75.583542\n",
       "6     59.6  59.902187\n",
       "7     61.1  61.274305\n",
       "8     49.7  59.902187\n",
       "9     64.5  52.061509\n",
       "10    74.3  74.172220\n",
       "11    59.6  59.902187\n",
       "12    67.0  69.859847\n",
       "13    59.6  59.902187\n",
       "14    68.4  75.583542\n",
       "15    56.0  59.902187\n",
       "16    71.7  75.583542\n",
       "17    61.0  57.667594\n",
       "18    50.4  44.220832\n",
       "19    58.4  52.061509\n",
       "20    64.0  57.236356\n",
       "21    73.4  72.604085\n",
       "22    60.9  67.742864\n",
       "23    71.0  63.822526\n",
       "24    69.3  66.605966\n",
       "25    45.9  48.141170\n",
       "26    60.9  59.902187\n",
       "27    65.3  59.902187\n",
       "28    59.6  59.902187\n",
       "29    58.4  55.981848"
      ]
     },
     "execution_count": 24,
     "metadata": {},
     "output_type": "execute_result"
    }
   ],
   "source": [
    "# Creating a dataframe comparing the actual and predicted values of y.\n",
    "\n",
    "data = pd.DataFrame({'Actual': y_test.flatten(), 'Predicted': y_predicted.flatten()})\n",
    "data.head(30)"
   ]
  },
  {
   "cell_type": "markdown",
   "id": "907f9d10",
   "metadata": {},
   "source": [
    "This output shows there’s **quite the difference between the actual and predicted y values**. This is evidence that the model isn’t doing a great job of explaining the relationship between the “Property Rights” and “Overall Score” variables. **The relationship simply doesn’t follow a single, straight regression line (so a single, straight regression line won’t be able to accurately predict anything!).**"
   ]
  },
  {
   "cell_type": "code",
   "execution_count": 25,
   "id": "11269ac7",
   "metadata": {},
   "outputs": [],
   "source": [
    "# Comparing how the regression fits the training set\n",
    "# Predict.\n",
    "\n",
    "y_predicted_train = regression.predict(X_train) # This is predicting X_train!"
   ]
  },
  {
   "cell_type": "code",
   "execution_count": 26,
   "id": "fade056c",
   "metadata": {},
   "outputs": [],
   "source": [
    "rmse = mean_squared_error(y_train, y_predicted_train)\n",
    "r2 = r2_score(y_train, y_predicted_train)"
   ]
  },
  {
   "cell_type": "code",
   "execution_count": 27,
   "id": "c2fbbaa5",
   "metadata": {},
   "outputs": [
    {
     "name": "stdout",
     "output_type": "stream",
     "text": [
      "Slope: [[0.39203388]]\n",
      "Mean squared error:  46.437339518006674\n",
      "R2 score:  0.6225361573278421\n"
     ]
    }
   ],
   "source": [
    "print('Slope:' ,regression.coef_)\n",
    "print('Mean squared error: ', rmse)\n",
    "print('R2 score: ', r2)"
   ]
  },
  {
   "cell_type": "code",
   "execution_count": 28,
   "id": "c9bb0ac6",
   "metadata": {},
   "outputs": [
    {
     "data": {
      "image/png": "[encoded data removed]",
      "text/plain": [
       "<Figure size 432x288 with 1 Axes>"
      ]
     },
     "metadata": {
      "needs_background": "light"
     },
     "output_type": "display_data"
    }
   ],
   "source": [
    "# Visualizing the training set results.\n",
    "\n",
    "plot_test = plt\n",
    "plot_test.scatter(X_train, y_train, color='green', s = 15)\n",
    "plot_test.plot(X_train, y_predicted_train, color='red', linewidth =3)\n",
    "plot_test.title('Property Rights vs Overall Score (Test set)')\n",
    "plot_test.xlabel('Property Rights')\n",
    "plot_test.ylabel('Overall Score')\n",
    "plot_test.show()"
   ]
  },
  {
   "cell_type": "markdown",
   "id": "94e1f175",
   "metadata": {},
   "source": [
    "### 06. Performance improvement after removing outliers?"
   ]
  },
  {
   "cell_type": "code",
   "execution_count": 29,
   "id": "24c9f36b",
   "metadata": {},
   "outputs": [],
   "source": [
    "# Cleaning the extreme values from the \"Overall Score\" variable observed during the consistency checks.\n",
    "\n",
    "df_test = df_freedom[df_freedom['Overall Score'] <=60] "
   ]
  },
  {
   "cell_type": "code",
   "execution_count": 30,
   "id": "a46f9ad6",
   "metadata": {},
   "outputs": [
    {
     "data": {
      "image/png": "[encoded data removed]",
      "text/plain": [
       "<Figure size 432x288 with 1 Axes>"
      ]
     },
     "metadata": {
      "needs_background": "light"
     },
     "output_type": "display_data"
    }
   ],
   "source": [
    "# Checking how the scatterplot looks without the outliers.\n",
    "\n",
    "df_test.plot(x = 'Property Rights', y='Overall Score', style='o')  \n",
    "plt.title('Property Rights vs Overall Score')  \n",
    "plt.xlabel('Property Rights')  \n",
    "plt.ylabel('Overall Score')  \n",
    "plt.show()"
   ]
  },
  {
   "cell_type": "code",
   "execution_count": 31,
   "id": "80c1205a",
   "metadata": {},
   "outputs": [],
   "source": [
    "# Reshape again.\n",
    "\n",
    "X_2 = df_test['Property Rights'].values.reshape(-1,1)\n",
    "y_2 = df_test['Overall Score'].values.reshape(-1,1)"
   ]
  },
  {
   "cell_type": "code",
   "execution_count": 32,
   "id": "9dc0f2ec",
   "metadata": {},
   "outputs": [],
   "source": [
    "X_train_2, X_test_2, y_train_2, y_test_2 = train_test_split(X_2, y_2, test_size=0.3, random_state=0)"
   ]
  },
  {
   "cell_type": "code",
   "execution_count": 33,
   "id": "846e0522",
   "metadata": {},
   "outputs": [
    {
     "data": {
      "text/plain": [
       "LinearRegression()"
      ]
     },
     "execution_count": 33,
     "metadata": {},
     "output_type": "execute_result"
    }
   ],
   "source": [
    "# Run and fit the regression.\n",
    "\n",
    "regression = LinearRegression()  \n",
    "regression.fit(X_train_2, y_train_2)"
   ]
  },
  {
   "cell_type": "code",
   "execution_count": 34,
   "id": "ec30cea4",
   "metadata": {},
   "outputs": [],
   "source": [
    "# Predict.\n",
    "\n",
    "y_predicted_2 = regression.predict(X_test_2)"
   ]
  },
  {
   "cell_type": "code",
   "execution_count": 35,
   "id": "d1787da1",
   "metadata": {},
   "outputs": [],
   "source": [
    "rmse = mean_squared_error(y_test_2, y_predicted_2)\n",
    "r2 = r2_score(y_test_2, y_predicted_2)"
   ]
  },
  {
   "cell_type": "code",
   "execution_count": 36,
   "id": "f3e54887",
   "metadata": {},
   "outputs": [
    {
     "name": "stdout",
     "output_type": "stream",
     "text": [
      "Slope: [[0.34745286]]\n",
      "Mean squared error:  45.48554462644543\n",
      "R2 score:  0.34126505885501146\n"
     ]
    }
   ],
   "source": [
    "print('Slope:' ,regression.coef_)\n",
    "print('Mean squared error: ', rmse)\n",
    "print('R2 score: ', r2)"
   ]
  },
  {
   "cell_type": "code",
   "execution_count": 37,
   "id": "d47e09cd",
   "metadata": {},
   "outputs": [
    {
     "data": {
      "image/png": "[encoded data removed]",
      "text/plain": [
       "<Figure size 432x288 with 1 Axes>"
      ]
     },
     "metadata": {
      "needs_background": "light"
     },
     "output_type": "display_data"
    }
   ],
   "source": [
    "# Visualizing the test set results.\n",
    "\n",
    "plot_test = plt\n",
    "plot_test.scatter(X_test, y_test, color='gray', s = 15)\n",
    "plot_test.plot(X_train, regression.predict(X_train), color='red', linewidth =3)\n",
    "plot_test.title('Property Rights vs Overall Score (Test set)')\n",
    "plot_test.xlabel('Property Rights')\n",
    "plot_test.ylabel('Overall Score')\n",
    "plot_test.show()"
   ]
  },
  {
   "cell_type": "code",
   "execution_count": 43,
   "id": "eb99bb26",
   "metadata": {},
   "outputs": [
    {
     "data": {
      "text/html": [
       "<div>\n",
       "<style scoped>\n",
       "    .dataframe tbody tr th:only-of-type {\n",
       "        vertical-align: middle;\n",
       "    }\n",
       "\n",
       "    .dataframe tbody tr th {\n",
       "        vertical-align: top;\n",
       "    }\n",
       "\n",
       "    .dataframe thead th {\n",
       "        text-align: right;\n",
       "    }\n",
       "</style>\n",
       "<table border=\"1\" class=\"dataframe\">\n",
       "  <thead>\n",
       "    <tr style=\"text-align: right;\">\n",
       "      <th></th>\n",
       "      <th>Actual</th>\n",
       "      <th>Predicted</th>\n",
       "    </tr>\n",
       "  </thead>\n",
       "  <tbody>\n",
       "    <tr>\n",
       "      <th>0</th>\n",
       "      <td>59.0</td>\n",
       "      <td>53.980819</td>\n",
       "    </tr>\n",
       "    <tr>\n",
       "      <th>1</th>\n",
       "      <td>57.7</td>\n",
       "      <td>57.455348</td>\n",
       "    </tr>\n",
       "    <tr>\n",
       "      <th>2</th>\n",
       "      <td>55.7</td>\n",
       "      <td>50.506291</td>\n",
       "    </tr>\n",
       "    <tr>\n",
       "      <th>3</th>\n",
       "      <td>46.7</td>\n",
       "      <td>50.506291</td>\n",
       "    </tr>\n",
       "    <tr>\n",
       "      <th>4</th>\n",
       "      <td>45.0</td>\n",
       "      <td>43.557234</td>\n",
       "    </tr>\n",
       "    <tr>\n",
       "      <th>5</th>\n",
       "      <td>55.1</td>\n",
       "      <td>53.042697</td>\n",
       "    </tr>\n",
       "    <tr>\n",
       "      <th>6</th>\n",
       "      <td>50.6</td>\n",
       "      <td>47.031762</td>\n",
       "    </tr>\n",
       "    <tr>\n",
       "      <th>7</th>\n",
       "      <td>56.6</td>\n",
       "      <td>57.455348</td>\n",
       "    </tr>\n",
       "    <tr>\n",
       "      <th>8</th>\n",
       "      <td>53.8</td>\n",
       "      <td>50.506291</td>\n",
       "    </tr>\n",
       "    <tr>\n",
       "      <th>9</th>\n",
       "      <td>55.9</td>\n",
       "      <td>50.506291</td>\n",
       "    </tr>\n",
       "    <tr>\n",
       "      <th>10</th>\n",
       "      <td>57.3</td>\n",
       "      <td>47.031762</td>\n",
       "    </tr>\n",
       "    <tr>\n",
       "      <th>11</th>\n",
       "      <td>55.2</td>\n",
       "      <td>59.991754</td>\n",
       "    </tr>\n",
       "    <tr>\n",
       "      <th>12</th>\n",
       "      <td>45.7</td>\n",
       "      <td>50.506291</td>\n",
       "    </tr>\n",
       "    <tr>\n",
       "      <th>13</th>\n",
       "      <td>59.6</td>\n",
       "      <td>57.455348</td>\n",
       "    </tr>\n",
       "    <tr>\n",
       "      <th>14</th>\n",
       "      <td>52.9</td>\n",
       "      <td>59.053631</td>\n",
       "    </tr>\n",
       "    <tr>\n",
       "      <th>15</th>\n",
       "      <td>53.4</td>\n",
       "      <td>47.031762</td>\n",
       "    </tr>\n",
       "    <tr>\n",
       "      <th>16</th>\n",
       "      <td>50.3</td>\n",
       "      <td>50.506291</td>\n",
       "    </tr>\n",
       "    <tr>\n",
       "      <th>17</th>\n",
       "      <td>54.4</td>\n",
       "      <td>50.506291</td>\n",
       "    </tr>\n",
       "    <tr>\n",
       "      <th>18</th>\n",
       "      <td>40.4</td>\n",
       "      <td>50.506291</td>\n",
       "    </tr>\n",
       "    <tr>\n",
       "      <th>19</th>\n",
       "      <td>59.2</td>\n",
       "      <td>52.591008</td>\n",
       "    </tr>\n",
       "    <tr>\n",
       "      <th>20</th>\n",
       "      <td>54.4</td>\n",
       "      <td>63.744245</td>\n",
       "    </tr>\n",
       "    <tr>\n",
       "      <th>21</th>\n",
       "      <td>59.5</td>\n",
       "      <td>50.506291</td>\n",
       "    </tr>\n",
       "    <tr>\n",
       "      <th>22</th>\n",
       "      <td>59.6</td>\n",
       "      <td>57.455348</td>\n",
       "    </tr>\n",
       "    <tr>\n",
       "      <th>23</th>\n",
       "      <td>57.4</td>\n",
       "      <td>53.563876</td>\n",
       "    </tr>\n",
       "    <tr>\n",
       "      <th>24</th>\n",
       "      <td>55.7</td>\n",
       "      <td>57.802801</td>\n",
       "    </tr>\n",
       "    <tr>\n",
       "      <th>25</th>\n",
       "      <td>49.0</td>\n",
       "      <td>48.074121</td>\n",
       "    </tr>\n",
       "    <tr>\n",
       "      <th>26</th>\n",
       "      <td>55.7</td>\n",
       "      <td>57.455348</td>\n",
       "    </tr>\n",
       "    <tr>\n",
       "      <th>27</th>\n",
       "      <td>41.0</td>\n",
       "      <td>50.402055</td>\n",
       "    </tr>\n",
       "    <tr>\n",
       "      <th>28</th>\n",
       "      <td>52.3</td>\n",
       "      <td>57.455348</td>\n",
       "    </tr>\n",
       "    <tr>\n",
       "      <th>29</th>\n",
       "      <td>50.4</td>\n",
       "      <td>53.007951</td>\n",
       "    </tr>\n",
       "  </tbody>\n",
       "</table>\n",
       "</div>"
      ],
      "text/plain": [
       "    Actual  Predicted\n",
       "0     59.0  53.980819\n",
       "1     57.7  57.455348\n",
       "2     55.7  50.506291\n",
       "3     46.7  50.506291\n",
       "4     45.0  43.557234\n",
       "5     55.1  53.042697\n",
       "6     50.6  47.031762\n",
       "7     56.6  57.455348\n",
       "8     53.8  50.506291\n",
       "9     55.9  50.506291\n",
       "10    57.3  47.031762\n",
       "11    55.2  59.991754\n",
       "12    45.7  50.506291\n",
       "13    59.6  57.455348\n",
       "14    52.9  59.053631\n",
       "15    53.4  47.031762\n",
       "16    50.3  50.506291\n",
       "17    54.4  50.506291\n",
       "18    40.4  50.506291\n",
       "19    59.2  52.591008\n",
       "20    54.4  63.744245\n",
       "21    59.5  50.506291\n",
       "22    59.6  57.455348\n",
       "23    57.4  53.563876\n",
       "24    55.7  57.802801\n",
       "25    49.0  48.074121\n",
       "26    55.7  57.455348\n",
       "27    41.0  50.402055\n",
       "28    52.3  57.455348\n",
       "29    50.4  53.007951"
      ]
     },
     "execution_count": 43,
     "metadata": {},
     "output_type": "execute_result"
    }
   ],
   "source": [
    "data = pd.DataFrame({'Actual': y_test_2.flatten(), 'Predicted': y_predicted_2.flatten()})\n",
    "data.head(30)"
   ]
  },
  {
   "cell_type": "markdown",
   "id": "507a8ba5",
   "metadata": {},
   "source": [
    "The output still shows quite a difference between the actual and predicted y values. **A linear regression model doesn't seem to be a good fit!**"
   ]
  },
  {
   "cell_type": "code",
   "execution_count": null,
   "id": "a734328f",
   "metadata": {},
   "outputs": [],
   "source": []
  }
 ],
 "metadata": {
  "kernelspec": {
   "display_name": "Python 3 (ipykernel)",
   "language": "python",
   "name": "python3"
  },
  "language_info": {
   "codemirror_mode": {
    "name": "ipython",
    "version": 3
   },
   "file_extension": ".py",
   "mimetype": "text/x-python",
   "name": "python",
   "nbconvert_exporter": "python",
   "pygments_lexer": "ipython3",
   "version": "3.8.12"
  }
 },
 "nbformat": 4,
 "nbformat_minor": 5
}
